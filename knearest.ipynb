{
 "cells": [
  {
   "cell_type": "code",
   "execution_count": 1,
   "metadata": {
    "colab": {},
    "colab_type": "code",
    "id": "tXxPuMcMNfja"
   },
   "outputs": [],
   "source": [
    "import numpy as np\n",
    "import random\n",
    "import math\n",
    "import matplotlib.pyplot as plt\n",
    "from copy import deepcopy\n",
    "%matplotlib inline"
   ]
  },
  {
   "cell_type": "markdown",
   "metadata": {
    "colab_type": "text",
    "id": "JZUYmkXKNxPU"
   },
   "source": [
    "#**K nearest Neighbor** "
   ]
  },
  {
   "cell_type": "code",
   "execution_count": 2,
   "metadata": {
    "colab": {
     "base_uri": "https://localhost:8080/",
     "height": 364
    },
    "colab_type": "code",
    "id": "CUo1EkW6Nisu",
    "outputId": "b425438a-3b3a-4fd6-89e6-ee023ecc9c69"
   },
   "outputs": [
    {
     "data": {
      "text/plain": [
       "1"
      ]
     },
     "execution_count": 2,
     "metadata": {},
     "output_type": "execute_result"
    },
    {
     "data": {
      "image/png": "[encoded data removed]",
      "text/plain": [
       "<Figure size 432x288 with 1 Axes>"
      ]
     },
     "metadata": {
      "needs_background": "light"
     },
     "output_type": "display_data"
    }
   ],
   "source": [
    "class K_classifier(object):\n",
    "    \n",
    "  def __init__(self, X, targets, k = 3, classes = 2):\n",
    "    \n",
    "    self.k = k\n",
    "    self.X = X\n",
    "    self.targets = targets\n",
    "    self.classes = classes\n",
    "\n",
    "  def fit(self):\n",
    "\n",
    "    #kein Training nötig, da Klassifikation nur bei predict aufgrund des Algorithmus \n",
    "    \n",
    "    return self\n",
    "\n",
    "  def random_color(self):\n",
    "        \n",
    "    tuple1 = []\n",
    "    \n",
    "    for i in range(3):\n",
    "      tuple1.append(random.random())\n",
    "\n",
    "    tuple1 = tuple(tuple1)\n",
    "    \n",
    "    return tuple1\n",
    "\n",
    "  def distance(self, vektor1, vektor2):\n",
    "        \n",
    "    differenzvektor = vektor1 - vektor2\n",
    "    quad_summe = 0\n",
    "    \n",
    "    for element in differenzvektor:\n",
    "      quad_summe += element**2\n",
    "\n",
    "    quad_summe = math.sqrt(quad_summe)\n",
    "    \n",
    "    return quad_summe\n",
    "\n",
    "  def finde_kleinster(self, liste):\n",
    "        \n",
    "    wert = liste[0][0]\n",
    "    position = 0\n",
    "    index = 1\n",
    "    while index < len(liste):\n",
    "      if wert > liste[index][0]:\n",
    "        wert = liste[index][0]\n",
    "        position = index\n",
    "\n",
    "      index += 1\n",
    "\n",
    "    return position\n",
    "\n",
    "\n",
    "  def sortiere(self,liste):\n",
    "\n",
    "    liste2 = []\n",
    "    liste_kopie = deepcopy(liste)\n",
    "    laenge = len(liste_kopie)\n",
    "\n",
    "    for i in range(laenge):\n",
    "      index = self.finde_kleinster(liste_kopie)\n",
    "      liste2.append([liste_kopie[index][0], liste_kopie[index][1]])\n",
    "      liste_kopie.pop(index)\n",
    "\n",
    "    return liste2\n",
    "\n",
    "  def haeufigste(self, liste):\n",
    "\n",
    "    #geht nur, wenn k nicht größer als Menge der Inputs ist\n",
    "\n",
    "    if self.k <= len(liste):\n",
    "      # nur die k nächsten Nachbarn\n",
    "    \n",
    "      liste_kopie = deepcopy(liste)\n",
    "      liste_kopie = liste_kopie[:self.k]\n",
    "    \n",
    "      #Klassen in eine Liste zum Zählen\n",
    "        \n",
    "      zaehl_liste = []\n",
    "      for element in liste:\n",
    "        zaehl_liste.append(element[1])\n",
    "\n",
    "      index = 0\n",
    "      nummernliste = []\n",
    "        \n",
    "      #eine Art mapping\n",
    "    \n",
    "      for element in zaehl_liste:\n",
    "        nummer = zaehl_liste.count(element)\n",
    "        nummernliste.append(nummer)\n",
    "\n",
    "      #Index mit größter Zahl ermitteln\n",
    "    \n",
    "      maximum = nummernliste[0]\n",
    "      index = 1\n",
    "      position = 0\n",
    "        \n",
    "      while index < len(nummernliste):\n",
    "        if nummernliste[index] > maximum:\n",
    "          maximum = nummernliste[index]\n",
    "          position = index\n",
    "\n",
    "        index += 1 \n",
    "\n",
    "      klasse = zaehl_liste[position]\n",
    "    \n",
    "      return klasse\n",
    "\n",
    "    \n",
    "\n",
    "  def predict(self, input,farbe=None):\n",
    "\n",
    "    #klassifikation\n",
    "    #Distanz\n",
    "\n",
    "    distances = []\n",
    "    for i in range(len(self.X)):\n",
    "      d = self.distance(self.X[i], input)\n",
    "      distances.append([d, self.targets[i]])\n",
    "\n",
    "    distances = self.sortiere(distances)\n",
    "\n",
    "    klasse = self.haeufigste(distances)\n",
    "\n",
    "    if farbe == None:\n",
    "      #plot\n",
    "      self.X = np.vstack((self.X,input))\n",
    "      #print(self.X)\n",
    "      self.targets = np.append(arr=self.targets, values=klasse)\n",
    "      #print(self.targets)\n",
    "\n",
    "    self.plotten(0,1,farbe,input)\n",
    "\n",
    "\n",
    "    return klasse\n",
    "\n",
    "  def plotten(self, feature1, feature2,farbe=None,input=None):\n",
    "\n",
    "    color_dict = {}\n",
    "\n",
    "    for i in range(self.classes):\n",
    "      color_dict.update({str(i) : self.random_color()})\n",
    "\n",
    "    for i in range(len(self.X)):\n",
    "      plt.scatter(self.X[i][feature1], self.X[i][feature2], facecolor = color_dict[str(self.targets[i])])\n",
    "    \n",
    "    plt.style.use('seaborn')\n",
    "\n",
    "    if farbe != None:\n",
    "      plt.scatter(input[0],input[1],color=farbe)\n",
    "\n",
    "\n",
    "\n",
    "hallo = np.array([[1,3],[-2,4],[3,5],[-2,6],[4,3],[6,1],[1,6],[5,4],[12,-3],[11,6],[17,16],[14,-2],[15,11]])\n",
    "bibo = np.array([1,1,1,1,1,1,1,1,0,0,0,0,0])\n",
    "k = K_classifier(k=3, X=hallo, targets=bibo, classes = 2)\n",
    "k.predict(np.array([6,3]), farbe = 'b')"
   ]
  },
  {
   "cell_type": "code",
   "execution_count": null,
   "metadata": {},
   "outputs": [],
   "source": []
  }
 ],
 "metadata": {
  "colab": {
   "collapsed_sections": [],
   "name": "knearest.ipynb",
   "provenance": []
  },
  "kernelspec": {
   "display_name": "Python 3",
   "language": "python",
   "name": "python3"
  },
  "language_info": {
   "codemirror_mode": {
    "name": "ipython",
    "version": 3
   },
   "file_extension": ".py",
   "mimetype": "text/x-python",
   "name": "python",
   "nbconvert_exporter": "python",
   "pygments_lexer": "ipython3",
   "version": "3.7.5"
  }
 },
 "nbformat": 4,
 "nbformat_minor": 1
}
