{
 "cells": [
  {
   "cell_type": "code",
   "execution_count": 1,
   "metadata": {
    "colab": {},
    "colab_type": "code",
    "id": "tXxPuMcMNfja"
   },
   "outputs": [],
   "source": [
    "import numpy as np\n",
    "import random\n",
    "import math\n",
    "import matplotlib.pyplot as plt\n",
    "from copy import deepcopy\n",
    "%matplotlib inline"
   ]
  },
  {
   "cell_type": "markdown",
   "metadata": {
    "colab_type": "text",
    "id": "JZUYmkXKNxPU"
   },
   "source": [
    "#**K nearest Neighbor** "
   ]
  },
  {
   "cell_type": "code",
   "execution_count": 2,
   "metadata": {
    "colab": {
     "base_uri": "https://localhost:8080/",
     "height": 364
    },
    "colab_type": "code",
    "id": "CUo1EkW6Nisu",
    "outputId": "b425438a-3b3a-4fd6-89e6-ee023ecc9c69"
   },
   "outputs": [
    {
     "data": {
      "text/plain": [
       "1"
      ]
     },
     "execution_count": 2,
     "metadata": {},
     "output_type": "execute_result"
    },
    {
     "data": {
      "image/png": "[encoded data removed]",
      "text/plain": [
       "<Figure size 432x288 with 1 Axes>"
      ]
     },
     "metadata": {
      "needs_background": "light"
     },
     "output_type": "display_data"
    }
   ],
   "source": [
    "class K_classifier(object):\n",
    "    \n",
    "    def __init__(self, X, targets, k = 3, classes = 2):\n",
    "    \n",
    "        self.k = k\n",
    "        self.X = X\n",
    "        self.targets = targets\n",
    "        self.classes = classes\n",
    "        \n",
    "        self.color_dict = {}\n",
    "\n",
    "        for i in range(self.classes):\n",
    "            self.color_dict.update({str(i) : self.random_color()})\n",
    "\n",
    "    def fit(self):\n",
    "\n",
    "        #no training due to algorithm (all is done in predict) \n",
    "    \n",
    "        return self\n",
    "\n",
    "    def random_color(self):\n",
    "        \n",
    "        color_list = []\n",
    "        #rgb -> 3 colors\n",
    "        for i in range(3):\n",
    "            color_list.append(random.random())\n",
    "\n",
    "        color_tuple = tuple(color_list)\n",
    "    \n",
    "        return color_tuple\n",
    "\n",
    "    def distance(self, vektor1, vektor2):\n",
    "        \n",
    "        #computes the distance between two vectors\n",
    "    \n",
    "        diff_vector = vektor1 - vektor2\n",
    "        quad_sum = 0\n",
    "    \n",
    "        for coordinate in diff_vector:\n",
    "            quad_sum += coordinate**2\n",
    "\n",
    "        quad_sum = math.sqrt(quad_sum)\n",
    "    \n",
    "        return quad_sum\n",
    "\n",
    "    def find_smallest(self, search_list):\n",
    "        \n",
    "        value = search_list[0][0]\n",
    "        position = 0\n",
    "        index = 1\n",
    "        while index < len(search_list):\n",
    "            #smaller value available\n",
    "            if value > search_list[index][0]:\n",
    "                value = search_list[index][0]\n",
    "                position = index\n",
    "\n",
    "            index += 1\n",
    "\n",
    "        return position\n",
    "\n",
    "\n",
    "    def sort(self,to_be_sorted):\n",
    "\n",
    "        #sorts the distance list\n",
    "        sorted_list = []\n",
    "        copy = deepcopy(to_be_sorted)\n",
    "\n",
    "        for i in range(len(copy)):\n",
    "            #find smallest difference available\n",
    "            index = self.find_smallest(copy)\n",
    "            #append to sorted\n",
    "            sorted_list.append([copy[index][0], copy[index][1]])\n",
    "            #remove from old list\n",
    "            copy.pop(index)\n",
    "\n",
    "        return sorted_list\n",
    "\n",
    "    def get_k(self, k_list):\n",
    "\n",
    "        assert self.k < self.X.shape[0]\n",
    "      \n",
    "    \n",
    "        copy = deepcopy(k_list)\n",
    "        #we're only interested in first k smallest samples\n",
    "        copy = copy[:self.k]\n",
    "    \n",
    "        #count all classes by just extracting classes\n",
    "        count_list = []\n",
    "        for element in copy:\n",
    "            #element = [distance, class]\n",
    "            count_list.append(element[1])\n",
    "\n",
    "        index = 0\n",
    "        mapping = []\n",
    "    \n",
    "        for element in count_list:\n",
    "            number = count_list.count(element)\n",
    "            mapping.append(number)\n",
    "\n",
    "        #now we have two lists: \n",
    "        #count lists contains the classes, e.g. [0,1,1,1]\n",
    "        #mapping contains the number of times the each class in count list is represented, e.g.\n",
    "        #[1,3,3,3]\n",
    "    \n",
    "        maximum = mapping[0]\n",
    "        index = 1\n",
    "        position = 0\n",
    "        \n",
    "        while index < len(mapping):\n",
    "            if mapping[index] > maximum:\n",
    "                maximum = mapping[index]\n",
    "                position = index\n",
    "\n",
    "            index += 1 \n",
    "\n",
    "        max_class = count_list[position]\n",
    "    \n",
    "        return max_class\n",
    "\n",
    "    \n",
    "\n",
    "    def predict(self, input):\n",
    "\n",
    "        #compute ALL distance to new input\n",
    "        distances = []\n",
    "        for i in range(len(self.X)):\n",
    "            d = self.distance(self.X[i], input)\n",
    "            #maps calculated distance to original input\n",
    "            distances.append([d, self.targets[i]])\n",
    "\n",
    "        distances = self.sort(distances)\n",
    "\n",
    "        #gets the closest class based on k\n",
    "        max_class = self.get_k(distances)\n",
    "        \n",
    "        color = self.color_dict[str(max_class)]\n",
    "\n",
    "        self.plot(0,1,color,input)\n",
    "\n",
    "\n",
    "        return max_class\n",
    "\n",
    "    def plot(self, feature1, feature2,specified_color=None,input=None):\n",
    "\n",
    "        for i in range(len(self.X)):\n",
    "            plt.scatter(self.X[i][feature1], self.X[i][feature2], facecolor = self.color_dict[str(self.targets[i])], alpha = .5)\n",
    "    \n",
    "\n",
    "        if specified_color != None:\n",
    "            plt.scatter(input[0],input[1],color=specified_color)\n",
    "\n",
    "\n",
    "\n",
    "hallo = np.array([[1,3],[-2,4],[3,5],[-2,6],[4,3],[6,1],[1,6],[5,4],[12,-3],[11,6],[17,16],[14,-2],[15,11]])\n",
    "bibo = np.array([1,1,1,1,1,1,1,1,0,0,0,0,0])\n",
    "k = K_classifier(k=3, X=hallo, targets=bibo, classes = 2)\n",
    "k.predict(np.array([6,3]))"
   ]
  },
  {
   "cell_type": "code",
   "execution_count": null,
   "metadata": {},
   "outputs": [],
   "source": [
    "#you can see that the predicted point (6,3) is colored a little brighter than all the other colors for emphasis"
   ]
  }
 ],
 "metadata": {
  "colab": {
   "collapsed_sections": [],
   "name": "knearest.ipynb",
   "provenance": []
  },
  "kernelspec": {
   "display_name": "Python 3 (ipykernel)",
   "language": "python",
   "name": "python3"
  },
  "language_info": {
   "codemirror_mode": {
    "name": "ipython",
    "version": 3
   },
   "file_extension": ".py",
   "mimetype": "text/x-python",
   "name": "python",
   "nbconvert_exporter": "python",
   "pygments_lexer": "ipython3",
   "version": "3.7.4"
  }
 },
 "nbformat": 4,
 "nbformat_minor": 4
}
